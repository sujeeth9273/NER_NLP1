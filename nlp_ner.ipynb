{
 "cells": [
  {
   "cell_type": "code",
   "execution_count": 1,
   "id": "dc903c0f-d59a-41c0-b407-026fb5a72578",
   "metadata": {},
   "outputs": [],
   "source": [
    "import nltk\n",
    "from nltk.tokenize import word_tokenize\n",
    "from nltk.tag import pos_tag\n",
    "from nltk.chunk import ne_chunk"
   ]
  },
  {
   "cell_type": "code",
   "execution_count": 4,
   "id": "bb24d98e-d450-40ed-b569-8fb7af51cdc1",
   "metadata": {},
   "outputs": [],
   "source": [
    "sentence = 'Google is an American search engine company, founded in 1998 by Sergey Brin and Larry Page. Since 2015, Google has been a subsidiary of the holding company Alphabet, Inc. More than 70% of worldwide online search requests are handled by Google, placing it at the heart of most Internet users experience.'"
   ]
  },
  {
   "cell_type": "code",
   "execution_count": 5,
   "id": "4c9c746d-9f9c-44b3-a6f3-167d07ebe9c3",
   "metadata": {},
   "outputs": [],
   "source": [
    "ne_tree = ne_chunk(pos_tag(word_tokenize(sentence)))"
   ]
  },
  {
   "cell_type": "code",
   "execution_count": 6,
   "id": "2cfe4367-c1e3-41ee-bb41-24191f50f68c",
   "metadata": {},
   "outputs": [
    {
     "name": "stdout",
     "output_type": "stream",
     "text": [
      "(S\n",
      "  (GPE Google/NNP)\n",
      "  is/VBZ\n",
      "  an/DT\n",
      "  (GPE American/JJ)\n",
      "  search/NN\n",
      "  engine/NN\n",
      "  company/NN\n",
      "  ,/,\n",
      "  founded/VBN\n",
      "  in/IN\n",
      "  1998/CD\n",
      "  by/IN\n",
      "  (PERSON Sergey/NNP Brin/NNP)\n",
      "  and/CC\n",
      "  (PERSON Larry/NNP Page/NNP)\n",
      "  ./.\n",
      "  Since/IN\n",
      "  2015/CD\n",
      "  ,/,\n",
      "  (PERSON Google/NNP)\n",
      "  has/VBZ\n",
      "  been/VBN\n",
      "  a/DT\n",
      "  subsidiary/NN\n",
      "  of/IN\n",
      "  the/DT\n",
      "  holding/VBG\n",
      "  company/NN\n",
      "  (PERSON Alphabet/NNP)\n",
      "  ,/,\n",
      "  Inc./NNP\n",
      "  More/JJR\n",
      "  than/IN\n",
      "  70/CD\n",
      "  %/NN\n",
      "  of/IN\n",
      "  worldwide/JJ\n",
      "  online/JJ\n",
      "  search/NN\n",
      "  requests/NNS\n",
      "  are/VBP\n",
      "  handled/VBN\n",
      "  by/IN\n",
      "  (PERSON Google/NNP)\n",
      "  ,/,\n",
      "  placing/VBG\n",
      "  it/PRP\n",
      "  at/IN\n",
      "  the/DT\n",
      "  heart/NN\n",
      "  of/IN\n",
      "  most/JJS\n",
      "  Internet/NNP\n",
      "  users/NNS\n",
      "  experience/NN\n",
      "  ./.)\n"
     ]
    }
   ],
   "source": [
    "print(ne_tree)"
   ]
  },
  {
   "cell_type": "code",
   "execution_count": 7,
   "id": "c09aa323-6839-4a4a-ac54-f15f12b9a9fc",
   "metadata": {},
   "outputs": [],
   "source": [
    "ex = 'Google is an American search engine company, founded in 1998 by Sergey Brin and Larry Page. Since 2015, Google has been a subsidiary of the holding company Alphabet, Inc. More than 70% of worldwide online search requests are handled by Google, placing it at the heart of most Internet users experience.'"
   ]
  },
  {
   "cell_type": "code",
   "execution_count": 8,
   "id": "4ead6c54-e899-4e70-8d92-8dd01d8ef207",
   "metadata": {},
   "outputs": [],
   "source": [
    "def preprocess(sent):\n",
    "    sent = nltk.word_tokenize(sent)\n",
    "    sent = nltk.pos_tag(sent)\n",
    "    return sent"
   ]
  },
  {
   "cell_type": "code",
   "execution_count": 9,
   "id": "89953a9b-5b82-41bd-94dd-e827fd0cb77f",
   "metadata": {},
   "outputs": [
    {
     "data": {
      "text/plain": [
       "[('Google', 'NNP'),\n",
       " ('is', 'VBZ'),\n",
       " ('an', 'DT'),\n",
       " ('American', 'JJ'),\n",
       " ('search', 'NN'),\n",
       " ('engine', 'NN'),\n",
       " ('company', 'NN'),\n",
       " (',', ','),\n",
       " ('founded', 'VBN'),\n",
       " ('in', 'IN'),\n",
       " ('1998', 'CD'),\n",
       " ('by', 'IN'),\n",
       " ('Sergey', 'NNP'),\n",
       " ('Brin', 'NNP'),\n",
       " ('and', 'CC'),\n",
       " ('Larry', 'NNP'),\n",
       " ('Page', 'NNP'),\n",
       " ('.', '.'),\n",
       " ('Since', 'IN'),\n",
       " ('2015', 'CD'),\n",
       " (',', ','),\n",
       " ('Google', 'NNP'),\n",
       " ('has', 'VBZ'),\n",
       " ('been', 'VBN'),\n",
       " ('a', 'DT'),\n",
       " ('subsidiary', 'NN'),\n",
       " ('of', 'IN'),\n",
       " ('the', 'DT'),\n",
       " ('holding', 'VBG'),\n",
       " ('company', 'NN'),\n",
       " ('Alphabet', 'NNP'),\n",
       " (',', ','),\n",
       " ('Inc.', 'NNP'),\n",
       " ('More', 'JJR'),\n",
       " ('than', 'IN'),\n",
       " ('70', 'CD'),\n",
       " ('%', 'NN'),\n",
       " ('of', 'IN'),\n",
       " ('worldwide', 'JJ'),\n",
       " ('online', 'JJ'),\n",
       " ('search', 'NN'),\n",
       " ('requests', 'NNS'),\n",
       " ('are', 'VBP'),\n",
       " ('handled', 'VBN'),\n",
       " ('by', 'IN'),\n",
       " ('Google', 'NNP'),\n",
       " (',', ','),\n",
       " ('placing', 'VBG'),\n",
       " ('it', 'PRP'),\n",
       " ('at', 'IN'),\n",
       " ('the', 'DT'),\n",
       " ('heart', 'NN'),\n",
       " ('of', 'IN'),\n",
       " ('most', 'JJS'),\n",
       " ('Internet', 'NNP'),\n",
       " ('users', 'NNS'),\n",
       " ('experience', 'NN'),\n",
       " ('.', '.')]"
      ]
     },
     "execution_count": 9,
     "metadata": {},
     "output_type": "execute_result"
    }
   ],
   "source": [
    "sent = preprocess(ex)\n",
    "sent"
   ]
  },
  {
   "cell_type": "code",
   "execution_count": 10,
   "id": "660dfc6f-4bb3-4be7-bdd0-20c252318fd8",
   "metadata": {},
   "outputs": [],
   "source": [
    "pattern = 'NP: {<DT>?<JJ>*<NN>}'"
   ]
  },
  {
   "cell_type": "code",
   "execution_count": 11,
   "id": "f9b4d0b6-ef1d-4837-8c8e-0952f8a19443",
   "metadata": {},
   "outputs": [
    {
     "name": "stdout",
     "output_type": "stream",
     "text": [
      "(S\n",
      "  Google/NNP\n",
      "  is/VBZ\n",
      "  (NP an/DT American/JJ search/NN)\n",
      "  (NP engine/NN)\n",
      "  (NP company/NN)\n",
      "  ,/,\n",
      "  founded/VBN\n",
      "  in/IN\n",
      "  1998/CD\n",
      "  by/IN\n",
      "  Sergey/NNP\n",
      "  Brin/NNP\n",
      "  and/CC\n",
      "  Larry/NNP\n",
      "  Page/NNP\n",
      "  ./.\n",
      "  Since/IN\n",
      "  2015/CD\n",
      "  ,/,\n",
      "  Google/NNP\n",
      "  has/VBZ\n",
      "  been/VBN\n",
      "  (NP a/DT subsidiary/NN)\n",
      "  of/IN\n",
      "  the/DT\n",
      "  holding/VBG\n",
      "  (NP company/NN)\n",
      "  Alphabet/NNP\n",
      "  ,/,\n",
      "  Inc./NNP\n",
      "  More/JJR\n",
      "  than/IN\n",
      "  70/CD\n",
      "  (NP %/NN)\n",
      "  of/IN\n",
      "  (NP worldwide/JJ online/JJ search/NN)\n",
      "  requests/NNS\n",
      "  are/VBP\n",
      "  handled/VBN\n",
      "  by/IN\n",
      "  Google/NNP\n",
      "  ,/,\n",
      "  placing/VBG\n",
      "  it/PRP\n",
      "  at/IN\n",
      "  (NP the/DT heart/NN)\n",
      "  of/IN\n",
      "  most/JJS\n",
      "  Internet/NNP\n",
      "  users/NNS\n",
      "  (NP experience/NN)\n",
      "  ./.)\n"
     ]
    }
   ],
   "source": [
    "cp = nltk.RegexpParser(pattern)\n",
    "cs = cp.parse(sent)\n",
    "print(cs)"
   ]
  },
  {
   "cell_type": "code",
   "execution_count": null,
   "id": "5dad4bd1-5dff-4433-9e5f-5b2b7070e359",
   "metadata": {},
   "outputs": [],
   "source": [
    "NPChunker = nltk.RegexpParser(pattern) \n",
    "result = NPChunker.parse(sent)\n",
    "result.draw()"
   ]
  },
  {
   "cell_type": "code",
   "execution_count": null,
   "id": "a4eb08d7-96d7-489a-8e84-f9d3297ccc42",
   "metadata": {},
   "outputs": [],
   "source": []
  }
 ],
 "metadata": {
  "kernelspec": {
   "display_name": "Python 3 (ipykernel)",
   "language": "python",
   "name": "python3"
  },
  "language_info": {
   "codemirror_mode": {
    "name": "ipython",
    "version": 3
   },
   "file_extension": ".py",
   "mimetype": "text/x-python",
   "name": "python",
   "nbconvert_exporter": "python",
   "pygments_lexer": "ipython3",
   "version": "3.11.7"
  }
 },
 "nbformat": 4,
 "nbformat_minor": 5
}
